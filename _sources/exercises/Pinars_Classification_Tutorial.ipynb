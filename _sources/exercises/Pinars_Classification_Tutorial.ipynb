{
 "cells": [
  {
   "cell_type": "code",
   "execution_count": 1,
   "id": "9429fb90",
   "metadata": {},
   "outputs": [],
   "source": [
    "# To silence the warnings\n",
    "def warn(*args, **kwargs):\n",
    "    pass\n",
    "import warnings\n",
    "warnings.warn = warn"
   ]
  },
  {
   "cell_type": "code",
   "execution_count": 2,
   "id": "1865dd67",
   "metadata": {},
   "outputs": [],
   "source": [
    "import mne\n",
    "from mne.decoding import SlidingEstimator, cross_val_multiscore\n",
    "from mne.decoding import Vectorizer\n",
    "from mne.datasets import eegbci\n",
    "\n",
    "from os.path import isfile, join\n",
    "from os import listdir\n",
    "import numpy as np\n",
    "import statistics\n",
    "\n",
    "from sklearn.preprocessing import StandardScaler\n",
    "from sklearn.pipeline import make_pipeline\n",
    "from sklearn.model_selection import cross_val_score, train_test_split, GridSearchCV, StratifiedKFold\n",
    "from sklearn.metrics import precision_recall_fscore_support, accuracy_score\n",
    "\n",
    "# Models\n",
    "from sklearn import svm\n",
    "from sklearn.discriminant_analysis import LinearDiscriminantAnalysis\n",
    "from sklearn.linear_model import LogisticRegression"
   ]
  },
  {
   "cell_type": "markdown",
   "id": "1042fcc6",
   "metadata": {},
   "source": [
    "## Analysis on temporal dimensions for each participant separately\n",
    "\n",
    "### Prepare data for the analysis"
   ]
  },
  {
   "cell_type": "code",
   "execution_count": 3,
   "id": "dd5816d0",
   "metadata": {},
   "outputs": [
    {
     "ename": "FileNotFoundError",
     "evalue": "Download location /Users/tivadarr/datasets as specified by MNE_DATA does not exist. Either create this directory manually and try again, or set MNE_DATA to an existing directory.",
     "output_type": "error",
     "traceback": [
      "\u001b[0;31m---------------------------------------------------------------------------\u001b[0m",
      "\u001b[0;31mFileNotFoundError\u001b[0m                         Traceback (most recent call last)",
      "Cell \u001b[0;32mIn[3], line 7\u001b[0m\n\u001b[1;32m      4\u001b[0m subject \u001b[38;5;241m=\u001b[39m \u001b[38;5;241m1\u001b[39m\n\u001b[1;32m      5\u001b[0m runs \u001b[38;5;241m=\u001b[39m [\u001b[38;5;241m6\u001b[39m, \u001b[38;5;241m10\u001b[39m, \u001b[38;5;241m14\u001b[39m]  \u001b[38;5;66;03m# motor imagery: hands vs feet\u001b[39;00m\n\u001b[0;32m----> 7\u001b[0m raw_fnames \u001b[38;5;241m=\u001b[39m \u001b[43meegbci\u001b[49m\u001b[38;5;241;43m.\u001b[39;49m\u001b[43mload_data\u001b[49m\u001b[43m(\u001b[49m\u001b[43msubject\u001b[49m\u001b[43m,\u001b[49m\u001b[43m \u001b[49m\u001b[43mruns\u001b[49m\u001b[43m)\u001b[49m\n\u001b[1;32m      8\u001b[0m raw \u001b[38;5;241m=\u001b[39m concatenate_raws([read_raw_edf(f, preload\u001b[38;5;241m=\u001b[39m\u001b[38;5;28;01mTrue\u001b[39;00m) \u001b[38;5;28;01mfor\u001b[39;00m f \u001b[38;5;129;01min\u001b[39;00m raw_fnames])\n\u001b[1;32m      9\u001b[0m eegbci\u001b[38;5;241m.\u001b[39mstandardize(raw)  \u001b[38;5;66;03m# set channel names\u001b[39;00m\n",
      "File \u001b[0;32m<decorator-gen-580>:12\u001b[0m, in \u001b[0;36mload_data\u001b[0;34m(subject, runs, path, force_update, update_path, base_url, verbose)\u001b[0m\n",
      "File \u001b[0;32m~/anaconda3/envs/HSanalysis/lib/python3.9/site-packages/mne/datasets/eegbci/eegbci.py:180\u001b[0m, in \u001b[0;36mload_data\u001b[0;34m(subject, runs, path, force_update, update_path, base_url, verbose)\u001b[0m\n\u001b[1;32m    178\u001b[0m folder \u001b[38;5;241m=\u001b[39m \u001b[38;5;124m\"\u001b[39m\u001b[38;5;124mMNE-eegbci-data\u001b[39m\u001b[38;5;124m\"\u001b[39m\n\u001b[1;32m    179\u001b[0m name \u001b[38;5;241m=\u001b[39m \u001b[38;5;124m\"\u001b[39m\u001b[38;5;124mEEGBCI\u001b[39m\u001b[38;5;124m\"\u001b[39m\n\u001b[0;32m--> 180\u001b[0m path \u001b[38;5;241m=\u001b[39m \u001b[43m_get_path\u001b[49m\u001b[43m(\u001b[49m\u001b[43mpath\u001b[49m\u001b[43m,\u001b[49m\u001b[43m \u001b[49m\u001b[43mconfig_key\u001b[49m\u001b[43m,\u001b[49m\u001b[43m \u001b[49m\u001b[43mname\u001b[49m\u001b[43m)\u001b[49m\n\u001b[1;32m    182\u001b[0m \u001b[38;5;66;03m# extract path parts\u001b[39;00m\n\u001b[1;32m    183\u001b[0m pattern \u001b[38;5;241m=\u001b[39m \u001b[38;5;124mr\u001b[39m\u001b[38;5;124m\"\u001b[39m\u001b[38;5;124m(?:https?://.*)(files)/(eegmmidb)/(\u001b[39m\u001b[38;5;124m\\\u001b[39m\u001b[38;5;124md+\u001b[39m\u001b[38;5;124m\\\u001b[39m\u001b[38;5;124m.\u001b[39m\u001b[38;5;124m\\\u001b[39m\u001b[38;5;124md+\u001b[39m\u001b[38;5;124m\\\u001b[39m\u001b[38;5;124m.\u001b[39m\u001b[38;5;124m\\\u001b[39m\u001b[38;5;124md+)/?\u001b[39m\u001b[38;5;124m\"\u001b[39m\n",
      "File \u001b[0;32m~/anaconda3/envs/HSanalysis/lib/python3.9/site-packages/mne/datasets/utils.py:118\u001b[0m, in \u001b[0;36m_get_path\u001b[0;34m(path, key, name)\u001b[0m\n\u001b[1;32m    112\u001b[0m     \u001b[38;5;28;01mif\u001b[39;00m \u001b[38;5;129;01mnot\u001b[39;00m path\u001b[38;5;241m.\u001b[39mexists():\n\u001b[1;32m    113\u001b[0m         msg \u001b[38;5;241m=\u001b[39m (\n\u001b[1;32m    114\u001b[0m             \u001b[38;5;124mf\u001b[39m\u001b[38;5;124m\"\u001b[39m\u001b[38;5;124mDownload location \u001b[39m\u001b[38;5;132;01m{\u001b[39;00mpath\u001b[38;5;132;01m}\u001b[39;00m\u001b[38;5;124m as specified by MNE_DATA does \u001b[39m\u001b[38;5;124m\"\u001b[39m\n\u001b[1;32m    115\u001b[0m             \u001b[38;5;124mf\u001b[39m\u001b[38;5;124m\"\u001b[39m\u001b[38;5;124mnot exist. Either create this directory manually and try \u001b[39m\u001b[38;5;124m\"\u001b[39m\n\u001b[1;32m    116\u001b[0m             \u001b[38;5;124mf\u001b[39m\u001b[38;5;124m\"\u001b[39m\u001b[38;5;124magain, or set MNE_DATA to an existing directory.\u001b[39m\u001b[38;5;124m\"\u001b[39m\n\u001b[1;32m    117\u001b[0m         )\n\u001b[0;32m--> 118\u001b[0m         \u001b[38;5;28;01mraise\u001b[39;00m \u001b[38;5;167;01mFileNotFoundError\u001b[39;00m(msg)\n\u001b[1;32m    119\u001b[0m     \u001b[38;5;28;01mreturn\u001b[39;00m path\n\u001b[1;32m    120\u001b[0m \u001b[38;5;66;03m# 4. ~/mne_data (but use a fake home during testing so we don't\u001b[39;00m\n\u001b[1;32m    121\u001b[0m \u001b[38;5;66;03m#    unnecessarily create ~/mne_data)\u001b[39;00m\n",
      "\u001b[0;31mFileNotFoundError\u001b[0m: Download location /Users/tivadarr/datasets as specified by MNE_DATA does not exist. Either create this directory manually and try again, or set MNE_DATA to an existing directory."
     ]
    }
   ],
   "source": [
    "# avoid classification of evoked responses by using epochs that start 1s after\n",
    "# cue onset.\n",
    "tmin, tmax = -1.0, 4.0\n",
    "subject = 1\n",
    "runs = [6, 10, 14]  # motor imagery: hands vs feet\n",
    "\n",
    "raw_fnames = eegbci.load_data(subject, runs)\n",
    "raw = concatenate_raws([read_raw_edf(f, preload=True) for f in raw_fnames])\n",
    "eegbci.standardize(raw)  # set channel names\n",
    "montage = make_standard_montage(\"standard_1005\")\n",
    "raw.set_montage(montage)\n",
    "raw.annotations.rename(dict(T1=\"hands\", T2=\"feet\"))\n",
    "raw.set_eeg_reference(projection=True)\n",
    "\n",
    "# Apply band-pass filter\n",
    "raw.filter(7.0, 30.0, fir_design=\"firwin\", skip_by_annotation=\"edge\")\n",
    "\n",
    "picks = pick_types(raw.info, meg=False, eeg=True, stim=False, eog=False, exclude=\"bads\")\n",
    "\n",
    "# Read epochs (train will be done only between 1 and 2s)\n",
    "# Testing will be done with a running classifier\n",
    "epochs = Epochs(\n",
    "    raw,\n",
    "    event_id=[\"hands\", \"feet\"],\n",
    "    tmin=tmin,\n",
    "    tmax=tmax,\n",
    "    proj=True,\n",
    "    picks=picks,\n",
    "    baseline=None,\n",
    "    preload=True,\n",
    ")"
   ]
  },
  {
   "cell_type": "code",
   "execution_count": null,
   "id": "688d035f",
   "metadata": {},
   "outputs": [],
   "source": []
  }
 ],
 "metadata": {
  "kernelspec": {
   "display_name": "Python 3 (ipykernel)",
   "language": "python",
   "name": "python3"
  },
  "language_info": {
   "codemirror_mode": {
    "name": "ipython",
    "version": 3
   },
   "file_extension": ".py",
   "mimetype": "text/x-python",
   "name": "python",
   "nbconvert_exporter": "python",
   "pygments_lexer": "ipython3",
   "version": "3.9.18"
  }
 },
 "nbformat": 4,
 "nbformat_minor": 5
}
